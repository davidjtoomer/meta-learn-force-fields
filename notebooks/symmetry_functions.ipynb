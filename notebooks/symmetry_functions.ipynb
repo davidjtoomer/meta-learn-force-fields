{
 "cells": [
  {
   "cell_type": "markdown",
   "metadata": {},
   "source": [
    "# Imports and Configuration"
   ]
  },
  {
   "cell_type": "code",
   "execution_count": null,
   "metadata": {},
   "outputs": [],
   "source": [
    "import numpy as np\n",
    "from matplotlib import pyplot as plt"
   ]
  },
  {
   "cell_type": "code",
   "execution_count": null,
   "metadata": {},
   "outputs": [],
   "source": [
    "plt.rcParams['figure.figsize'] = [8, 5]"
   ]
  },
  {
   "cell_type": "markdown",
   "metadata": {},
   "source": [
    "# Radial Symmetry Functions"
   ]
  },
  {
   "cell_type": "code",
   "execution_count": null,
   "metadata": {},
   "outputs": [],
   "source": [
    "R_cutoff = 6.0\n",
    "eta = 4.0\n",
    "zeta = 8.0"
   ]
  },
  {
   "cell_type": "code",
   "execution_count": null,
   "metadata": {},
   "outputs": [],
   "source": [
    "def f(r):\n",
    "    return np.tanh(1 - (r / R_cutoff)) ** 3\n",
    "\n",
    "def g2(r, eta, R_cutoff):\n",
    "    return np.exp(-eta * (r - R_cutoff)**2) * f(r)"
   ]
  },
  {
   "cell_type": "code",
   "execution_count": null,
   "metadata": {},
   "outputs": [],
   "source": [
    "radii = np.linspace(0.0, R_cutoff, 8)\n",
    "x = np.linspace(0.0, R_cutoff, 1000)\n",
    "\n",
    "colors = plt.cm.Blues(np.linspace(0.3, 1, len(radii)))\n",
    "colors = np.flip(colors, axis=0)\n",
    "for i, cutoff_radius in enumerate(radii):\n",
    "    plt.plot(x, g2(x, eta, cutoff_radius), label=fr'$R_c$={cutoff_radius:.2f}', color=colors[i], linewidth=3)\n",
    "plt.legend()\n",
    "plt.title(r'$G^2$ Symmetry Functions, $\\eta=4.0$')\n",
    "plt.xlabel('Interatomic Distance (Å)')\n",
    "plt.ylabel('Output')\n",
    "plt.savefig('g2.png', dpi=1200)\n",
    "plt.show()"
   ]
  },
  {
   "cell_type": "markdown",
   "metadata": {},
   "source": [
    "# Angular Symmetry Functions"
   ]
  },
  {
   "cell_type": "code",
   "execution_count": null,
   "metadata": {},
   "outputs": [],
   "source": [
    "def g5(theta, theta_shift, r, r_shift, eta, zeta):\n",
    "    coefficient = 2 ** (1 - zeta)\n",
    "    return coefficient * ((1 + np.cos(theta - theta_shift)) ** zeta) * g2(r, eta, r_shift) * f(r)"
   ]
  },
  {
   "cell_type": "code",
   "execution_count": null,
   "metadata": {},
   "outputs": [],
   "source": [
    "x = np.linspace(-np.pi, np.pi, 1000)\n",
    "angles = np.linspace(-np.pi, np.pi, 8)[:-1]\n",
    "radius = 0.0\n",
    "\n",
    "colors = plt.cm.Blues(np.linspace(0.3, 1, len(angles)))\n",
    "colors = np.flip(colors, axis=0)\n",
    "for i, theta_shift in enumerate(angles):\n",
    "    plt.plot(x, g5(x, theta_shift, radius, radius, eta, zeta), label=fr'$\\theta_s$={theta_shift:.2f}', color=colors[i], linewidth=3)\n",
    "plt.legend(loc='upper right')\n",
    "plt.title(r'$G^5$ Symmetry Functions, $\\eta=4.0$, $\\zeta=8.0$')\n",
    "plt.xlabel('Angle (rad)')\n",
    "plt.ylabel('Output')\n",
    "plt.savefig('g5.png', dpi=1200)\n",
    "plt.show()"
   ]
  }
 ],
 "metadata": {
  "kernelspec": {
   "display_name": "Python 3.8.13 ('meta-learn-force-fields')",
   "language": "python",
   "name": "python3"
  },
  "language_info": {
   "codemirror_mode": {
    "name": "ipython",
    "version": 3
   },
   "file_extension": ".py",
   "mimetype": "text/x-python",
   "name": "python",
   "nbconvert_exporter": "python",
   "pygments_lexer": "ipython3",
   "version": "3.8.13"
  },
  "orig_nbformat": 4,
  "vscode": {
   "interpreter": {
    "hash": "b264299949a3c6fb919b3612510109641378719a95e81f755f5635ba0f553d7d"
   }
  }
 },
 "nbformat": 4,
 "nbformat_minor": 2
}
